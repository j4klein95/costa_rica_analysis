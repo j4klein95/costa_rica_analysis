{
 "cells": [
  {
   "cell_type": "code",
   "execution_count": 1,
   "metadata": {},
   "outputs": [],
   "source": [
    "import pandas as pd\n",
    "import numpy as np\n",
    "import matplotlib.pyplot as plt\n",
    "import seaborn as sns\n",
    "from collections import OrderedDict\n",
    "import warnings\n",
    "import operator\n",
    "\n",
    "\n",
    "from pandas.tools.plotting import scatter_matrix\n",
    "\n",
    "%matplotlib inline"
   ]
  },
  {
   "cell_type": "code",
   "execution_count": 2,
   "metadata": {},
   "outputs": [
    {
     "name": "stdout",
     "output_type": "stream",
     "text": [
      "<class 'pandas.core.frame.DataFrame'>\n",
      "RangeIndex: 9557 entries, 0 to 9556\n",
      "Columns: 143 entries, Id to Target\n",
      "dtypes: float64(8), int64(130), object(5)\n",
      "memory usage: 10.4+ MB\n",
      "(9557, 143) None\n"
     ]
    }
   ],
   "source": [
    "train = pd.read_csv(\"./data/train.csv\")\n",
    "test = pd.read_csv(\"./data/test.csv\")\n",
    "print(train.shape, train.info())"
   ]
  },
  {
   "cell_type": "code",
   "execution_count": 3,
   "metadata": {},
   "outputs": [
    {
     "name": "stdout",
     "output_type": "stream",
     "text": [
      "<class 'pandas.core.frame.DataFrame'>\n",
      "RangeIndex: 23856 entries, 0 to 23855\n",
      "Columns: 142 entries, Id to agesq\n",
      "dtypes: float64(8), int64(129), object(5)\n",
      "memory usage: 25.8+ MB\n",
      "(23856, 142) None\n"
     ]
    }
   ],
   "source": [
    "print(test.shape, test.info())"
   ]
  },
  {
   "cell_type": "code",
   "execution_count": 4,
   "metadata": {},
   "outputs": [
    {
     "data": {
      "text/html": [
       "<div>\n",
       "<style scoped>\n",
       "    .dataframe tbody tr th:only-of-type {\n",
       "        vertical-align: middle;\n",
       "    }\n",
       "\n",
       "    .dataframe tbody tr th {\n",
       "        vertical-align: top;\n",
       "    }\n",
       "\n",
       "    .dataframe thead th {\n",
       "        text-align: right;\n",
       "    }\n",
       "</style>\n",
       "<table border=\"1\" class=\"dataframe\">\n",
       "  <thead>\n",
       "    <tr style=\"text-align: right;\">\n",
       "      <th></th>\n",
       "      <th>Id</th>\n",
       "      <th>v2a1</th>\n",
       "      <th>hacdor</th>\n",
       "      <th>rooms</th>\n",
       "      <th>hacapo</th>\n",
       "      <th>v14a</th>\n",
       "      <th>refrig</th>\n",
       "      <th>v18q</th>\n",
       "      <th>v18q1</th>\n",
       "      <th>r4h1</th>\n",
       "      <th>...</th>\n",
       "      <th>SQBescolari</th>\n",
       "      <th>SQBage</th>\n",
       "      <th>SQBhogar_total</th>\n",
       "      <th>SQBedjefe</th>\n",
       "      <th>SQBhogar_nin</th>\n",
       "      <th>SQBovercrowding</th>\n",
       "      <th>SQBdependency</th>\n",
       "      <th>SQBmeaned</th>\n",
       "      <th>agesq</th>\n",
       "      <th>Target</th>\n",
       "    </tr>\n",
       "  </thead>\n",
       "  <tbody>\n",
       "    <tr>\n",
       "      <th>0</th>\n",
       "      <td>ID_279628684</td>\n",
       "      <td>190000.0</td>\n",
       "      <td>0</td>\n",
       "      <td>3</td>\n",
       "      <td>0</td>\n",
       "      <td>1</td>\n",
       "      <td>1</td>\n",
       "      <td>0</td>\n",
       "      <td>NaN</td>\n",
       "      <td>0</td>\n",
       "      <td>...</td>\n",
       "      <td>100</td>\n",
       "      <td>1849</td>\n",
       "      <td>1</td>\n",
       "      <td>100</td>\n",
       "      <td>0</td>\n",
       "      <td>1.00</td>\n",
       "      <td>0.0</td>\n",
       "      <td>100.0</td>\n",
       "      <td>1849</td>\n",
       "      <td>4</td>\n",
       "    </tr>\n",
       "    <tr>\n",
       "      <th>1</th>\n",
       "      <td>ID_f29eb3ddd</td>\n",
       "      <td>135000.0</td>\n",
       "      <td>0</td>\n",
       "      <td>4</td>\n",
       "      <td>0</td>\n",
       "      <td>1</td>\n",
       "      <td>1</td>\n",
       "      <td>1</td>\n",
       "      <td>1.0</td>\n",
       "      <td>0</td>\n",
       "      <td>...</td>\n",
       "      <td>144</td>\n",
       "      <td>4489</td>\n",
       "      <td>1</td>\n",
       "      <td>144</td>\n",
       "      <td>0</td>\n",
       "      <td>1.00</td>\n",
       "      <td>64.0</td>\n",
       "      <td>144.0</td>\n",
       "      <td>4489</td>\n",
       "      <td>4</td>\n",
       "    </tr>\n",
       "    <tr>\n",
       "      <th>2</th>\n",
       "      <td>ID_68de51c94</td>\n",
       "      <td>NaN</td>\n",
       "      <td>0</td>\n",
       "      <td>8</td>\n",
       "      <td>0</td>\n",
       "      <td>1</td>\n",
       "      <td>1</td>\n",
       "      <td>0</td>\n",
       "      <td>NaN</td>\n",
       "      <td>0</td>\n",
       "      <td>...</td>\n",
       "      <td>121</td>\n",
       "      <td>8464</td>\n",
       "      <td>1</td>\n",
       "      <td>0</td>\n",
       "      <td>0</td>\n",
       "      <td>0.25</td>\n",
       "      <td>64.0</td>\n",
       "      <td>121.0</td>\n",
       "      <td>8464</td>\n",
       "      <td>4</td>\n",
       "    </tr>\n",
       "  </tbody>\n",
       "</table>\n",
       "<p>3 rows × 143 columns</p>\n",
       "</div>"
      ],
      "text/plain": [
       "             Id      v2a1  hacdor  rooms  hacapo  v14a  refrig  v18q  v18q1  \\\n",
       "0  ID_279628684  190000.0       0      3       0     1       1     0    NaN   \n",
       "1  ID_f29eb3ddd  135000.0       0      4       0     1       1     1    1.0   \n",
       "2  ID_68de51c94       NaN       0      8       0     1       1     0    NaN   \n",
       "\n",
       "   r4h1   ...    SQBescolari  SQBage  SQBhogar_total  SQBedjefe  SQBhogar_nin  \\\n",
       "0     0   ...            100    1849               1        100             0   \n",
       "1     0   ...            144    4489               1        144             0   \n",
       "2     0   ...            121    8464               1          0             0   \n",
       "\n",
       "   SQBovercrowding  SQBdependency  SQBmeaned  agesq  Target  \n",
       "0             1.00            0.0      100.0   1849       4  \n",
       "1             1.00           64.0      144.0   4489       4  \n",
       "2             0.25           64.0      121.0   8464       4  \n",
       "\n",
       "[3 rows x 143 columns]"
      ]
     },
     "execution_count": 4,
     "metadata": {},
     "output_type": "execute_result"
    }
   ],
   "source": [
    "train.head(3)"
   ]
  },
  {
   "cell_type": "code",
   "execution_count": 5,
   "metadata": {},
   "outputs": [
    {
     "data": {
      "text/html": [
       "<div>\n",
       "<style scoped>\n",
       "    .dataframe tbody tr th:only-of-type {\n",
       "        vertical-align: middle;\n",
       "    }\n",
       "\n",
       "    .dataframe tbody tr th {\n",
       "        vertical-align: top;\n",
       "    }\n",
       "\n",
       "    .dataframe thead th {\n",
       "        text-align: right;\n",
       "    }\n",
       "</style>\n",
       "<table border=\"1\" class=\"dataframe\">\n",
       "  <thead>\n",
       "    <tr style=\"text-align: right;\">\n",
       "      <th></th>\n",
       "      <th>Id</th>\n",
       "      <th>v2a1</th>\n",
       "      <th>hacdor</th>\n",
       "      <th>rooms</th>\n",
       "      <th>hacapo</th>\n",
       "      <th>v14a</th>\n",
       "      <th>refrig</th>\n",
       "      <th>v18q</th>\n",
       "      <th>v18q1</th>\n",
       "      <th>r4h1</th>\n",
       "      <th>...</th>\n",
       "      <th>age</th>\n",
       "      <th>SQBescolari</th>\n",
       "      <th>SQBage</th>\n",
       "      <th>SQBhogar_total</th>\n",
       "      <th>SQBedjefe</th>\n",
       "      <th>SQBhogar_nin</th>\n",
       "      <th>SQBovercrowding</th>\n",
       "      <th>SQBdependency</th>\n",
       "      <th>SQBmeaned</th>\n",
       "      <th>agesq</th>\n",
       "    </tr>\n",
       "  </thead>\n",
       "  <tbody>\n",
       "    <tr>\n",
       "      <th>0</th>\n",
       "      <td>ID_2f6873615</td>\n",
       "      <td>NaN</td>\n",
       "      <td>0</td>\n",
       "      <td>5</td>\n",
       "      <td>0</td>\n",
       "      <td>1</td>\n",
       "      <td>1</td>\n",
       "      <td>0</td>\n",
       "      <td>NaN</td>\n",
       "      <td>1</td>\n",
       "      <td>...</td>\n",
       "      <td>4</td>\n",
       "      <td>0</td>\n",
       "      <td>16</td>\n",
       "      <td>9</td>\n",
       "      <td>0</td>\n",
       "      <td>1</td>\n",
       "      <td>2.25</td>\n",
       "      <td>0.25</td>\n",
       "      <td>272.25</td>\n",
       "      <td>16</td>\n",
       "    </tr>\n",
       "    <tr>\n",
       "      <th>1</th>\n",
       "      <td>ID_1c78846d2</td>\n",
       "      <td>NaN</td>\n",
       "      <td>0</td>\n",
       "      <td>5</td>\n",
       "      <td>0</td>\n",
       "      <td>1</td>\n",
       "      <td>1</td>\n",
       "      <td>0</td>\n",
       "      <td>NaN</td>\n",
       "      <td>1</td>\n",
       "      <td>...</td>\n",
       "      <td>41</td>\n",
       "      <td>256</td>\n",
       "      <td>1681</td>\n",
       "      <td>9</td>\n",
       "      <td>0</td>\n",
       "      <td>1</td>\n",
       "      <td>2.25</td>\n",
       "      <td>0.25</td>\n",
       "      <td>272.25</td>\n",
       "      <td>1681</td>\n",
       "    </tr>\n",
       "  </tbody>\n",
       "</table>\n",
       "<p>2 rows × 142 columns</p>\n",
       "</div>"
      ],
      "text/plain": [
       "             Id  v2a1  hacdor  rooms  hacapo  v14a  refrig  v18q  v18q1  r4h1  \\\n",
       "0  ID_2f6873615   NaN       0      5       0     1       1     0    NaN     1   \n",
       "1  ID_1c78846d2   NaN       0      5       0     1       1     0    NaN     1   \n",
       "\n",
       "   ...    age  SQBescolari  SQBage  SQBhogar_total  SQBedjefe  SQBhogar_nin  \\\n",
       "0  ...      4            0      16               9          0             1   \n",
       "1  ...     41          256    1681               9          0             1   \n",
       "\n",
       "   SQBovercrowding  SQBdependency  SQBmeaned  agesq  \n",
       "0             2.25           0.25     272.25     16  \n",
       "1             2.25           0.25     272.25   1681  \n",
       "\n",
       "[2 rows x 142 columns]"
      ]
     },
     "execution_count": 5,
     "metadata": {},
     "output_type": "execute_result"
    }
   ],
   "source": [
    "test.head(2)\n"
   ]
  },
  {
   "cell_type": "code",
   "execution_count": 6,
   "metadata": {},
   "outputs": [
    {
     "data": {
      "text/plain": [
       "rez_esc           7928\n",
       "v18q1             7342\n",
       "v2a1              6860\n",
       "meaneduc             5\n",
       "SQBmeaned            5\n",
       "techozinc            0\n",
       "techoentrepiso       0\n",
       "techocane            0\n",
       "techootro            0\n",
       "cielorazo            0\n",
       "dtype: int64"
      ]
     },
     "execution_count": 6,
     "metadata": {},
     "output_type": "execute_result"
    }
   ],
   "source": [
    "train.isnull().sum().sort_values(0, ascending= False).head(10)"
   ]
  },
  {
   "cell_type": "code",
   "execution_count": 7,
   "metadata": {},
   "outputs": [
    {
     "data": {
      "text/plain": [
       "0"
      ]
     },
     "execution_count": 7,
     "metadata": {},
     "output_type": "execute_result"
    }
   ],
   "source": [
    "train['Target'].isnull().sum()"
   ]
  },
  {
   "cell_type": "code",
   "execution_count": 8,
   "metadata": {},
   "outputs": [
    {
     "data": {
      "text/plain": [
       "4    0.627394\n",
       "2    0.167103\n",
       "3    0.126504\n",
       "1    0.079000\n",
       "Name: Target, dtype: float64"
      ]
     },
     "execution_count": 8,
     "metadata": {},
     "output_type": "execute_result"
    }
   ],
   "source": [
    "target = train['Target']\n",
    "target.value_counts(normalize=True)"
   ]
  },
  {
   "cell_type": "code",
   "execution_count": 9,
   "metadata": {},
   "outputs": [],
   "source": [
    "#a discussion on kaggle indicates that you can replace an outlier with the value 5 \n",
    "test.loc[test['rez_esc'] == 99.0 , 'rez_esc'] = 5"
   ]
  },
  {
   "cell_type": "code",
   "execution_count": 21,
   "metadata": {},
   "outputs": [],
   "source": [
    "# a discussion in kaggle suggested inconsistencies between households poverty levels (ie: certain people had higher/lower pov level than other\n",
    "# people in the household). This was resolved where the true target was parentescol1 == 1. I searched around for what other people did to solve\n",
    "# this problem. The following code is borrowed from this kernel https://www.kaggle.com/bparesh/costa-rican-household-poverty-eda-basic-model\n",
    "train_problem = train.groupby('idhogar')['Target'].apply(lambda x: x.nunique() == 1)\n",
    "error_households = train_problem[train_problem != True]\n",
    "\n",
    "for household_id in error_households:\n",
    "    target = train[(train['idhogar'] == household_id) & (train['parentesco1'] == 1)]['Target']\n",
    "    train.loc[train['idhogar'] == household_id, 'Target'] = target"
   ]
  },
  {
   "cell_type": "code",
   "execution_count": 36,
   "metadata": {},
   "outputs": [
    {
     "data": {
      "text/plain": [
       "Text(0.5,1,'Training Set Poverty Indicator Count')"
      ]
     },
     "execution_count": 36,
     "metadata": {},
     "output_type": "execute_result"
    },
    {
     "data": {
      "image/png": "[encoded data removed]",
      "text/plain": [
       "<Figure size 432x288 with 1 Axes>"
      ]
     },
     "metadata": {},
     "output_type": "display_data"
    }
   ],
   "source": [
    "poverty_dict = OrderedDict({1: 'extreme', 2: 'moderate', 3: 'vulnerable', 4: 'nonvulnerable'})\n",
    "\n",
    "\n",
    "poverty_level_count = train[\"Target\"].value_counts()\n",
    "poverty_level_count.plot.bar()\n",
    "\n",
    "plt.xlabel('Poverty Indicator') \n",
    "plt.ylabel('Number of Samples'); \n",
    "plt.xticks([0, 1, 2, 3],[\"nonvulnerable\", \"moderate\", \"vulnerable\", \"extreme\"])\n",
    "plt.title(\"Training Set Poverty Indicator Count\")"
   ]
  },
  {
   "cell_type": "code",
   "execution_count": 41,
   "metadata": {},
   "outputs": [
    {
     "data": {
      "text/plain": [
       "Target         1.000000\n",
       "meaneduc       0.335203\n",
       "cielorazo      0.304421\n",
       "escolari       0.302305\n",
       "SQBescolari    0.296577\n",
       "Name: Target, dtype: float64"
      ]
     },
     "execution_count": 41,
     "metadata": {},
     "output_type": "execute_result"
    }
   ],
   "source": [
    "#taking a look at the correlates for our target variable\n",
    "corr = train.corr()\n",
    "corr[\"Target\"].sort_values(ascending = False).head()"
   ]
  },
  {
   "cell_type": "code",
   "execution_count": 102,
   "metadata": {},
   "outputs": [],
   "source": [
    "train[\"target_labeled\"] = train[\"Target\"].apply(lambda x : poverty_dict[x])\n",
    "train[\"v14a_labeled\"] = train[\"v14a\"].apply(lambda x : \"Has_Toilet\" if x == 1 else \"No_toilet\")"
   ]
  },
  {
   "cell_type": "code",
   "execution_count": 103,
   "metadata": {},
   "outputs": [],
   "source": [
    "toilet_group = train.groupby(\"target_labeled\")[\"v14a_labeled\"].value_counts()\n"
   ]
  },
  {
   "cell_type": "code",
   "execution_count": 105,
   "metadata": {},
   "outputs": [
    {
     "data": {
      "text/plain": [
       "<matplotlib.axes._subplots.AxesSubplot at 0x118879f60>"
      ]
     },
     "execution_count": 105,
     "metadata": {},
     "output_type": "execute_result"
    },
    {
     "data": {
      "image/png": "[encoded data removed]",
      "text/plain": [
       "<Figure size 432x288 with 1 Axes>"
      ]
     },
     "metadata": {},
     "output_type": "display_data"
    }
   ],
   "source": [
    "toilet_group.plot.bar()"
   ]
  },
  {
   "cell_type": "code",
   "execution_count": 106,
   "metadata": {},
   "outputs": [
    {
     "data": {
      "text/html": [
       "<style  type=\"text/css\" >\n",
       "    #T_cd748bb0_b46f_11e8_ae55_8c85902457a5row0_col0 {\n",
       "            background-color:  #e5e5ff;\n",
       "        }    #T_cd748bb0_b46f_11e8_ae55_8c85902457a5row0_col1 {\n",
       "            background-color:  #e5e5ff;\n",
       "        }    #T_cd748bb0_b46f_11e8_ae55_8c85902457a5row1_col0 {\n",
       "            background-color:  #c2c2ff;\n",
       "        }    #T_cd748bb0_b46f_11e8_ae55_8c85902457a5row1_col1 {\n",
       "            background-color:  #0000ff;\n",
       "        }    #T_cd748bb0_b46f_11e8_ae55_8c85902457a5row2_col0 {\n",
       "            background-color:  #0000ff;\n",
       "        }    #T_cd748bb0_b46f_11e8_ae55_8c85902457a5row2_col1 {\n",
       "            background-color:  #d3d3ff;\n",
       "        }    #T_cd748bb0_b46f_11e8_ae55_8c85902457a5row3_col0 {\n",
       "            background-color:  #d2d2ff;\n",
       "        }    #T_cd748bb0_b46f_11e8_ae55_8c85902457a5row3_col1 {\n",
       "            background-color:  #d3d3ff;\n",
       "        }</style>  \n",
       "<table id=\"T_cd748bb0_b46f_11e8_ae55_8c85902457a5\" > \n",
       "<thead>    <tr> \n",
       "        <th class=\"index_name level0\" >v14a_labeled</th> \n",
       "        <th class=\"col_heading level0 col0\" >Has_Toilet</th> \n",
       "        <th class=\"col_heading level0 col1\" >No_toilet</th> \n",
       "    </tr>    <tr> \n",
       "        <th class=\"index_name level0\" >target_labeled</th> \n",
       "        <th class=\"blank\" ></th> \n",
       "        <th class=\"blank\" ></th> \n",
       "    </tr></thead> \n",
       "<tbody>    <tr> \n",
       "        <th id=\"T_cd748bb0_b46f_11e8_ae55_8c85902457a5level0_row0\" class=\"row_heading level0 row0\" >extreme</th> \n",
       "        <td id=\"T_cd748bb0_b46f_11e8_ae55_8c85902457a5row0_col0\" class=\"data row0 col0\" >746</td> \n",
       "        <td id=\"T_cd748bb0_b46f_11e8_ae55_8c85902457a5row0_col1\" class=\"data row0 col1\" >9</td> \n",
       "    </tr>    <tr> \n",
       "        <th id=\"T_cd748bb0_b46f_11e8_ae55_8c85902457a5level0_row1\" class=\"row_heading level0 row1\" >moderate</th> \n",
       "        <td id=\"T_cd748bb0_b46f_11e8_ae55_8c85902457a5row1_col0\" class=\"data row1 col0\" >1576</td> \n",
       "        <td id=\"T_cd748bb0_b46f_11e8_ae55_8c85902457a5row1_col1\" class=\"data row1 col1\" >21</td> \n",
       "    </tr>    <tr> \n",
       "        <th id=\"T_cd748bb0_b46f_11e8_ae55_8c85902457a5level0_row2\" class=\"row_heading level0 row2\" >nonvulnerable</th> \n",
       "        <td id=\"T_cd748bb0_b46f_11e8_ae55_8c85902457a5row2_col0\" class=\"data row2 col0\" >5986</td> \n",
       "        <td id=\"T_cd748bb0_b46f_11e8_ae55_8c85902457a5row2_col1\" class=\"data row2 col1\" >10</td> \n",
       "    </tr>    <tr> \n",
       "        <th id=\"T_cd748bb0_b46f_11e8_ae55_8c85902457a5level0_row3\" class=\"row_heading level0 row3\" >vulnerable</th> \n",
       "        <td id=\"T_cd748bb0_b46f_11e8_ae55_8c85902457a5row3_col0\" class=\"data row3 col0\" >1199</td> \n",
       "        <td id=\"T_cd748bb0_b46f_11e8_ae55_8c85902457a5row3_col1\" class=\"data row3 col1\" >10</td> \n",
       "    </tr></tbody> \n",
       "</table> "
      ],
      "text/plain": [
       "<pandas.io.formats.style.Styler at 0x1a29d3c240>"
      ]
     },
     "execution_count": 106,
     "metadata": {},
     "output_type": "execute_result"
    }
   ],
   "source": [
    "colmap = sns.light_palette(\"blue\", as_cmap=True)\n",
    "pd.crosstab(train[\"target_labeled\"], train[\"v14a_labeled\"]).style.background_gradient(cmap = colmap)"
   ]
  },
  {
   "cell_type": "code",
   "execution_count": 108,
   "metadata": {},
   "outputs": [
    {
     "data": {
      "text/html": [
       "<style  type=\"text/css\" >\n",
       "    #T_76d6bb1a_b470_11e8_9754_8c85902457a5row0_col0 {\n",
       "            background-color:  #ffe5e5;\n",
       "        }    #T_76d6bb1a_b470_11e8_9754_8c85902457a5row0_col1 {\n",
       "            background-color:  #ffe5e5;\n",
       "        }    #T_76d6bb1a_b470_11e8_9754_8c85902457a5row1_col0 {\n",
       "            background-color:  #ffcfcf;\n",
       "        }    #T_76d6bb1a_b470_11e8_9754_8c85902457a5row1_col1 {\n",
       "            background-color:  #ff7777;\n",
       "        }    #T_76d6bb1a_b470_11e8_9754_8c85902457a5row2_col0 {\n",
       "            background-color:  #ff0000;\n",
       "        }    #T_76d6bb1a_b470_11e8_9754_8c85902457a5row2_col1 {\n",
       "            background-color:  #ff0000;\n",
       "        }    #T_76d6bb1a_b470_11e8_9754_8c85902457a5row3_col0 {\n",
       "            background-color:  #ffd3d3;\n",
       "        }    #T_76d6bb1a_b470_11e8_9754_8c85902457a5row3_col1 {\n",
       "            background-color:  #ffcbcb;\n",
       "        }</style>  \n",
       "<table id=\"T_76d6bb1a_b470_11e8_9754_8c85902457a5\" > \n",
       "<thead>    <tr> \n",
       "        <th class=\"index_name level0\" >cieling_labeled</th> \n",
       "        <th class=\"col_heading level0 col0\" >has_ceiling</th> \n",
       "        <th class=\"col_heading level0 col1\" >no_ceiling</th> \n",
       "    </tr>    <tr> \n",
       "        <th class=\"index_name level0\" >target_labeled</th> \n",
       "        <th class=\"blank\" ></th> \n",
       "        <th class=\"blank\" ></th> \n",
       "    </tr></thead> \n",
       "<tbody>    <tr> \n",
       "        <th id=\"T_76d6bb1a_b470_11e8_9754_8c85902457a5level0_row0\" class=\"row_heading level0 row0\" >extreme</th> \n",
       "        <td id=\"T_76d6bb1a_b470_11e8_9754_8c85902457a5row0_col0\" class=\"data row0 col0\" >318</td> \n",
       "        <td id=\"T_76d6bb1a_b470_11e8_9754_8c85902457a5row0_col1\" class=\"data row0 col1\" >437</td> \n",
       "    </tr>    <tr> \n",
       "        <th id=\"T_76d6bb1a_b470_11e8_9754_8c85902457a5level0_row1\" class=\"row_heading level0 row1\" >moderate</th> \n",
       "        <td id=\"T_76d6bb1a_b470_11e8_9754_8c85902457a5row1_col0\" class=\"data row1 col0\" >757</td> \n",
       "        <td id=\"T_76d6bb1a_b470_11e8_9754_8c85902457a5row1_col1\" class=\"data row1 col1\" >840</td> \n",
       "    </tr>    <tr> \n",
       "        <th id=\"T_76d6bb1a_b470_11e8_9754_8c85902457a5level0_row2\" class=\"row_heading level0 row2\" >nonvulnerable</th> \n",
       "        <td id=\"T_76d6bb1a_b470_11e8_9754_8c85902457a5row2_col0\" class=\"data row2 col0\" >4723</td> \n",
       "        <td id=\"T_76d6bb1a_b470_11e8_9754_8c85902457a5row2_col1\" class=\"data row2 col1\" >1273</td> \n",
       "    </tr>    <tr> \n",
       "        <th id=\"T_76d6bb1a_b470_11e8_9754_8c85902457a5level0_row3\" class=\"row_heading level0 row3\" >vulnerable</th> \n",
       "        <td id=\"T_76d6bb1a_b470_11e8_9754_8c85902457a5row3_col0\" class=\"data row3 col0\" >676</td> \n",
       "        <td id=\"T_76d6bb1a_b470_11e8_9754_8c85902457a5row3_col1\" class=\"data row3 col1\" >533</td> \n",
       "    </tr></tbody> \n",
       "</table> "
      ],
      "text/plain": [
       "<pandas.io.formats.style.Styler at 0x1a2c767780>"
      ]
     },
     "execution_count": 108,
     "metadata": {},
     "output_type": "execute_result"
    }
   ],
   "source": [
    "train[\"cieling_labeled\"] = train[\"cielorazo\"].apply(lambda x: \"has_ceiling\" if x == 1 else \"no_ceiling\")\n",
    "colmap1 = sns.light_palette(\"red\", as_cmap = True)\n",
    "pd.crosstab(train[\"target_labeled\"], train[\"cieling_labeled\"]).style.background_gradient(cmap = colmap1)"
   ]
  },
  {
   "cell_type": "code",
   "execution_count": 116,
   "metadata": {},
   "outputs": [
    {
     "data": {
      "text/plain": [
       "<matplotlib.axes._subplots.AxesSubplot at 0x1a2e88ecc0>"
      ]
     },
     "execution_count": 116,
     "metadata": {},
     "output_type": "execute_result"
    },
    {
     "data": {
      "image/png": "[encoded data removed]",
      "text/plain": [
       "<Figure size 432x288 with 1 Axes>"
      ]
     },
     "metadata": {},
     "output_type": "display_data"
    }
   ],
   "source": [
    "sns.set_color_codes(\"pastel\")\n",
    "sns.barplot(x=train[\"v14a\"].value_counts(), y = train[\"target_labeled\"], \n",
    "            color=\"b\")\n",
    "\n",
    "sns.barplot(x=train[\"cielorazo\"], y = train[\"target_labeled\"],\n",
    "           color = \"red\")\n"
   ]
  },
  {
   "cell_type": "code",
   "execution_count": 121,
   "metadata": {},
   "outputs": [
    {
     "data": {
      "text/plain": [
       "<matplotlib.axes._subplots.AxesSubplot at 0x1a32175a90>"
      ]
     },
     "execution_count": 121,
     "metadata": {},
     "output_type": "execute_result"
    },
    {
     "data": {
      "image/png": "[encoded data removed]",
      "text/plain": [
       "<Figure size 432x288 with 1 Axes>"
      ]
     },
     "metadata": {},
     "output_type": "display_data"
    }
   ],
   "source": [
    "train[\"meaneduc\"].plot.hist()"
   ]
  },
  {
   "cell_type": "code",
   "execution_count": null,
   "metadata": {},
   "outputs": [],
   "source": []
  }
 ],
 "metadata": {
  "kernelspec": {
   "display_name": "Python [conda env:toolbox]",
   "language": "python",
   "name": "conda-env-toolbox-py"
  },
  "language_info": {
   "codemirror_mode": {
    "name": "ipython",
    "version": 3
   },
   "file_extension": ".py",
   "mimetype": "text/x-python",
   "name": "python",
   "nbconvert_exporter": "python",
   "pygments_lexer": "ipython3",
   "version": "3.6.5"
  }
 },
 "nbformat": 4,
 "nbformat_minor": 2
}
